{
 "cells": [
  {
   "cell_type": "markdown",
   "id": "303ace76-d14b-4ddb-834e-cec7a348786e",
   "metadata": {},
   "source": [
    "# Modelled Benthic Carbon Flux Analysis at L4 Station\n",
    "- Title: Benthic Carbon Flux Visualisation for 1D GOTM-ERSEM simulations of the Western Channel Observatory L4 Station\n",
    "- Keywords: marine ecology, carbon flux, benthic ecosystem, model visualisation\n",
    "- Description: Jupyter notebook analyzing and visualising carbon fluxes in detailed and simplified ERSEM benthic ecosystem models\n",
    "- Related publication: Siedlecki et al (2025). Sediment Biogeochemistry Model Intercomparison Project (SedBGC_MIP): motivation and guidance for its experimental desig. Submitted to Geoscientific Model Development.\n",
    "- License: Creative Commons Attribution 4.0 International (CC BY 4.0)"
   ]
  },
  {
   "cell_type": "markdown",
   "id": "f6ac2374-d168-4229-b574-113d11ca16db",
   "metadata": {},
   "source": [
    "## Visualisation of Modelled Benthic Fluxes for WCO L4 Station\n",
    "\n",
    "This notebook processes and visualises carbon fluxes in 1D GOTM-ERSEM setup, comparing the results of detailed and simplified benthic ecosystem models applied to the Western Channel Observatory L4 Station (50°15.00'N, 4°13.02'W). It generates graph visualisations showing the flow relationships between different ecosystem components. More about the Western Channel Observatory: https://www.westernchannelobservatory.org.uk/. ERSEM code is available at https://github.com/pmlmodelling/ersem.\n",
    "\n",
    "Author: Gennadi Lessin, Plymouth Marine Laboratory\n",
    "Date: April 2025"
   ]
  },
  {
   "cell_type": "markdown",
   "id": "78783d91-7828-4398-b065-bd36fe435622",
   "metadata": {},
   "source": [
    "## Requirements\n",
    "- graphviz\n",
    "- xarray\n",
    "- pandas\n",
    "- numpy\n",
    "- matplotlib\n",
    "\n",
    "## Data Sources\n",
    "- L4_ERSEM_full_benthos_2016.nc - outputs of 1D simulation with full ERSEM benthic model\n",
    "- L4_ERSEM_benthic_return_2016.nc - outputs of 1D simulation with simple ERSEM benthic model"
   ]
  },
  {
   "cell_type": "code",
   "execution_count": 77,
   "id": "60dbacf0-26db-4b83-b419-21a9a3130ae1",
   "metadata": {},
   "outputs": [],
   "source": [
    "from graphviz import Digraph\n",
    "import xarray as xr\n",
    "import pandas as pd\n",
    "import os\n",
    "import numpy as np\n",
    "from matplotlib.colors import to_rgba"
   ]
  },
  {
   "cell_type": "markdown",
   "id": "101c0818-7f82-4fc2-80ee-cf97e171c10f",
   "metadata": {},
   "source": [
    "## Detailed Benthic Model Visualisation\n",
    "This section generates a directed graph showing carbon fluxes between different components of the benthic system from 1D simulation with full ERSEM benthic model. The thickness of each arrow represents the relative magnitude of the carbon flux."
   ]
  },
  {
   "cell_type": "code",
   "execution_count": 21,
   "id": "5d10172c-6165-4365-b4c6-293220dde94b",
   "metadata": {},
   "outputs": [],
   "source": [
    "os.chdir('/data/thaumus1/scratch/gle/becs')\n",
    "xd=xr.open_dataset('L4_ERSEM_full_benthos_2016.nc',drop_variables=['z','zi'])\n",
    "# Initialise DataFrame using time index from one of the variables\n",
    "df=pd.DataFrame(index=xd.Y2_fYG3c.time.values) "
   ]
  },
  {
   "cell_type": "code",
   "execution_count": 3,
   "id": "f7415ad0-4210-459f-861e-41a32adcddb8",
   "metadata": {},
   "outputs": [],
   "source": [
    "# Deposition fluxes\n",
    "df['R4Q6']=xd.R4_dep1c.values.squeeze()\n",
    "df['R4Q7']=xd.R4_dep2c.values.squeeze()\n",
    "df['R6Q6']=xd.R6_dep1c.values.squeeze()\n",
    "df['R6Q7']=xd.R6_dep2c.values.squeeze()\n",
    "df['R8Q6']=xd.R8_dep1c.values.squeeze()\n",
    "df['R8Q7']=xd.R8_dep2c.values.squeeze()\n",
    "df['P1Q6']=xd.P1_dep1c.values.squeeze()\n",
    "df['P1Q1']=xd.P1_dep2c.values.squeeze()\n",
    "df['P1Q7']=xd.P1_dep3c.values.squeeze()\n",
    "df['P2Q6']=xd.P2_dep1c.values.squeeze()\n",
    "df['P2Q1']=xd.P2_dep2c.values.squeeze()\n",
    "df['P2Q7']=xd.P2_dep3c.values.squeeze()\n",
    "df['P3Q6']=xd.P3_dep1c.values.squeeze()\n",
    "df['P3Q1']=xd.P3_dep2c.values.squeeze()\n",
    "df['P3Q7']=xd.P3_dep3c.values.squeeze()\n",
    "df['P4Q6']=xd.P4_dep1c.values.squeeze()\n",
    "df['P4Q1']=xd.P4_dep2c.values.squeeze()\n",
    "df['P4Q7']=xd.P4_dep3c.values.squeeze()"
   ]
  },
  {
   "cell_type": "code",
   "execution_count": 4,
   "id": "2b051110-a273-4c16-981e-61bf953da086",
   "metadata": {},
   "outputs": [],
   "source": [
    "# Resuspension flux\n",
    "df['Q6R6']=xd.Q6_resuspension_flux_c.values.squeeze()\n",
    "# Benthic bacterial fluxes: uptake, respiration, release of organic/inorganic substances\n",
    "df['Q1H1']=xd.H1_fc1.values.squeeze()\n",
    "df['Q6H1']=xd.H1_fc2.values.squeeze()\n",
    "df['Q7H1']=xd.H1_fc3.values.squeeze()\n",
    "df['H1G3']=xd.H1_fHG3c.values.squeeze()\n",
    "df['H1Q1']=xd.H1_fHQ1c.values.squeeze()\n",
    "df['H1Q6']=xd.H1_fHQPc.values.squeeze()\n",
    "df['Q6H2']=xd.H2_fc1.values.squeeze()\n",
    "df['Q7H2']=xd.H2_fc2.values.squeeze()\n",
    "df['H2G3']=xd.H2_fHG3c.values.squeeze()\n",
    "df['H2Q6']=xd.H2_fHQPc.values.squeeze()\n",
    "# Benthic faunal fluxes: uptake, respiration, release of organic/inorganic substances\n",
    "df['H1Y2']=xd.Y2_fprey1c.values.squeeze()         \n",
    "df['H2Y2']=xd.Y2_fprey2c.values.squeeze()\n",
    "df['Q6Y2']=xd.Y2_fprey3c.values.squeeze()\n",
    "df['Y4Y2']=xd.Y2_fprey4c.values.squeeze()\n",
    "df['Y2G3']=xd.Y2_fYG3c.values.squeeze()\n",
    "# Take excretion into account when calculating Q6 production fluxes\n",
    "df['Y2Q6']=xd.Y2_fYQPc.values.squeeze()+df.Q6Y2*0.8+0.35*(df.H1Y2+df.H2Y2+df.Y4Y2)\n",
    "df['P1Y3']=xd.Y3_fprey1c.values.squeeze()\n",
    "df['P2Y3']=xd.Y3_fprey2c.values.squeeze()\n",
    "df['P3Y3']=xd.Y3_fprey3c.values.squeeze()\n",
    "df['R6Y3']=xd.Y3_fprey4c.values.squeeze()\n",
    "df['H1Y3']=xd.Y3_fprey5c.values.squeeze()\n",
    "df['Q6Y3']=xd.Y3_fprey6c.values.squeeze()\n",
    "df['Y3G3']=xd.Y3_fYG3c.values.squeeze()\n",
    "df['Y3Q6']=xd.Y3_fYQPc.values.squeeze()+df.Q6Y3*0.85+0.35*(df.P1Y3+df.P2Y3+df.P3Y3+df.R6Y3+df.H1Y3)\n",
    "df['H1Y4']=xd.Y4_fprey1c.values.squeeze()\n",
    "df['H2Y4']=xd.Y4_fprey2c.values.squeeze()\n",
    "df['Y4Y4']=xd.Y4_fprey3c.values.squeeze()\n",
    "df['Q6Y4']=xd.Y4_fprey4c.values.squeeze()\n",
    "df['Y4G3']=xd.Y4_fYG3c.values.squeeze()\n",
    "df['Y4Q6']=xd.Y4_fYQPc.values.squeeze()+df.Q6Y4*0.4+0.25*(df.Y4Y4+df.H1Y4+df.H2Y4)"
   ]
  },
  {
   "cell_type": "code",
   "execution_count": 5,
   "id": "abc6929a-9386-4228-a08d-4d490e9c0f52",
   "metadata": {},
   "outputs": [],
   "source": [
    "#State variables (stocks)\n",
    "# Initialise DataFrame using time index from one of the variables\n",
    "dv = pd.DataFrame(index=xd.Y2_fYG3c.time.values)\n",
    "dv['Q1']=xd.Q1_c.values.squeeze()\n",
    "dv['Q6']=xd.Q6_c.values.squeeze()\n",
    "dv['Q7']=xd.Q7_c.values.squeeze()\n",
    "dv['H1']=xd.H1_c.values.squeeze()\n",
    "dv['H2']=xd.H2_c.values.squeeze()\n",
    "dv['Y2']=xd.Y2_c.values.squeeze()\n",
    "dv['Y3']=xd.Y3_c.values.squeeze()\n",
    "dv['Y4']=xd.Y4_c.values.squeeze()\n",
    "dv['G3']=xd.G3_c.values.squeeze()"
   ]
  },
  {
   "cell_type": "code",
   "execution_count": 6,
   "id": "0665a2f1-8285-47a9-97f3-73ed4c2b87de",
   "metadata": {},
   "outputs": [],
   "source": [
    "# Mean and maximum fluxes and stocks for year 2016\n",
    "df=df[df.index.year==2016]\n",
    "dv=dv[dv.index.year==2016]\n",
    "dvm=dv.mean()\n",
    "dfm=df.mean()\n",
    "dvmm=dvm.max()\n",
    "dfmm=dfm.max()"
   ]
  },
  {
   "cell_type": "code",
   "execution_count": 8,
   "id": "23f94b49-1646-49d6-811a-26e593a6d30a",
   "metadata": {},
   "outputs": [
    {
     "name": "stdout",
     "output_type": "stream",
     "text": [
      "Q6Y4    45.535301\n",
      "dtype: float32\n"
     ]
    }
   ],
   "source": [
    "# Identify which flux is a max flux for arrow scaling\n",
    "maxw = dfm[dfm==dfm.max()]\n",
    "print(maxw)"
   ]
  },
  {
   "cell_type": "code",
   "execution_count": 66,
   "id": "777d9e1b-8574-4c1b-a5de-98b622fe22f4",
   "metadata": {
    "scrolled": true
   },
   "outputs": [
    {
     "data": {
      "text/plain": [
       "'Detailed_benthic_model_L4.png'"
      ]
     },
     "execution_count": 66,
     "metadata": {},
     "output_type": "execute_result"
    }
   ],
   "source": [
    "# Generate basic graph visualisation: specify positions of the nodes, relative arrow sizes and colours, apply background\n",
    "\n",
    "# Set up visualisation parameters\n",
    "minsize=0.5 # Minimum edge width\n",
    "maxwidth = maxw.values # Maximum flux value for normalization\n",
    "\n",
    "# Create a new graph (remove any existing one first)\n",
    "if 'mw' in locals():\n",
    "  del mw\n",
    "\n",
    "# Initialize the directed graph with publication settings\n",
    "mw=Digraph('Web',filename='Detailed_benthic_model_L4',format='png',engine='fdp')\n",
    "\n",
    "# Set graph dimensions and resolution\n",
    "mw.attr(size='10,8!') # Width x height in inches (! forces exact size)\n",
    "mw.attr(dpi='1200') # High resolution for publication\n",
    "\n",
    "# Set gradient background (ocean to seafloor colors)\n",
    "#mw.attr(bgcolor='#E6F3FF:#ECD6C3')  \n",
    "#mw.attr(style='filled', color='#E6F3FF;0:#F5E6D3;1', gradientangle='270')   # Top to bottom gradient\n",
    "\n",
    "# Or use transparent background\n",
    "mw.attr(bgcolor='transparent')\n",
    "\n",
    "# Set graph styling\n",
    "mw.attr(labelloc='b')  # Place labels at bottom\n",
    "mw.node_attr.update(style='filled',fillcolor='white') # Default node style\n",
    "x=10\n",
    "\n",
    "with mw.subgraph(name='0') as s:\n",
    "  s.node('R8',pos='1,5!',fixed='true')\n",
    "  s.node('R6',pos='2,5!',fixed='true')\n",
    "  s.node('R4',pos='3,5!',fixed='true')\n",
    "  s.node('P1',pos='4,5!',fixed='true')\n",
    "  s.node('P2',pos='5,5!',fixed='true')\n",
    "  s.node('P3',pos='6,5!',fixed='true')\n",
    "  s.node('Q7',pos='2,4!',fixed='true')\n",
    "  s.node('Q6',pos='3.5,4!',fixed='true')\n",
    "  s.node('Q1',pos='1,4!',fixed='true')\n",
    "  s.node('H1',pos='2,3!',fixed='true')\n",
    "  s.node('H2',pos='3,3!',fixed='true')\n",
    "  s.node('Y4',pos='4,2!',fixed='true')\n",
    "  s.node('Y2',pos='2,2!',fixed='true')\n",
    "  s.node('Y3',pos='5,3!',fixed='true')\n",
    "  s.node('G3',pos='3.5,1!',fixed='true')\n",
    "    \n",
    "mw.attr(overlap='false', splines='true')\n",
    "fluxes=['P2Q1','P3Q1','P1Q1','P1Q6','P1Q7','P2Q6','P2Q7','P3Q6','P3Q7','R4Q6','R4Q7','R6Q6','R6Q7','R8Q6','R8Q7', \\\n",
    "        'Q6R6','Q1H1','Q6H1','Q7H1','H1G3','H1Q1','H1Q6','Q6H2','Q7H2', \\\n",
    "        'H2G3','H2Q6','H1Y2','H2Y2','Q6Y2','Y4Y2','Y2G3','Y2Q6', \\\n",
    "        'P1Y3','P2Y3','P3Y3','R6Y3','H1Y3','Q6Y3','Y3G3','Y3Q6', \\\n",
    "        'H1Y4','H2Y4','Y4Y4','Q6Y4','Y4G3','Y4Q6']\n",
    "\n",
    "def add_transparency(color, alpha=0.5):\n",
    "    rgba = to_rgba(color, alpha)\n",
    "    return f\"rgba({int(rgba[0]*255)},{int(rgba[1]*255)},{int(rgba[2]*255)},{rgba[3]})\"\n",
    "    \n",
    "for fl in fluxes:\n",
    "    flo=fl[0:2];fli=fl[2:]\n",
    "    col=f\"{'#333333'}80\"#\"black\"\n",
    "    value = dfm[fl]\n",
    "    nvalue = value * (x / maxwidth)\n",
    "    \n",
    "    if dfm[fl]<1e-5:\n",
    "        col=\"#0066CC\"   # Blue for negligible fluxes\n",
    "        nnvalue=0.5\n",
    "    elif dfm[fl]<0.2:\n",
    "        col=\"#CC0000\"   # Red for minor fluxes\n",
    "        nnvalue=0.5\n",
    "    else:\n",
    "        col=f\"{'#000000'}B0\"  # Semi-transparent black for significant fluxes\n",
    "        nnvalue = max(0.5, min(10., nvalue))\n",
    "\n",
    "    # Convert nnvalue to scalar if needed\n",
    "    if hasattr(nnvalue, 'ndim') and nnvalue.ndim > 0:\n",
    "        nnvalue = nnvalue.item()\n",
    "    \n",
    "    # Create the edge with appropriate properties\n",
    "    mw.edge(flo,fli,penwidth=str(float(nnvalue)),color=col,arrowsize='1.0',arrowhead='normal')\n",
    "mw.view()"
   ]
  },
  {
   "cell_type": "code",
   "execution_count": 67,
   "id": "0267a46c-c68a-4e23-8994-7e90ec3128ec",
   "metadata": {
    "scrolled": true
   },
   "outputs": [
    {
     "data": {
      "text/plain": [
       "'Detailed_benthic_model_L4.png'"
      ]
     },
     "execution_count": 67,
     "metadata": {},
     "output_type": "execute_result"
    },
    {
     "name": "stderr",
     "output_type": "stream",
     "text": [
      "\n",
      "(eog:1270233): EOG-CRITICAL **: 10:44:55.100: eog_image_get_file: assertion 'EOG_IS_IMAGE (img)' failed\n",
      "\n",
      "(eog:1270233): GLib-GIO-CRITICAL **: 10:44:55.100: g_file_equal: assertion 'G_IS_FILE (file1)' failed\n",
      "\n",
      "(eog:1270233): EOG-CRITICAL **: 10:45:25.386: eog_window_ui_settings_changed_cb: assertion 'G_IS_ACTION (user_data)' failed\n"
     ]
    }
   ],
   "source": [
    "# Generate advanced graph visualisation: \n",
    "# a) node colour correspond to type of stock/variable, shape to whether it is pelagic (square) or benthic (circle).\n",
    "# b) edit labels and fonts, apply fancy colour gradients\n",
    "# c) optionally, have some fun and add tiny icons to the nodes\n",
    "\n",
    "colors = {\n",
    "    'animal': '#3498db',  # Blue\n",
    "    'bacteria': '#e74c3c',  # Red\n",
    "    'plankton': '#2ecc71',  # Green\n",
    "    'matter': '#f39c12',  # Orange\n",
    "    'other': '#95a5a6'  # Gray\n",
    "}\n",
    "\n",
    "ns=1.5\n",
    "\n",
    "def style_node(name, label, color, shape='ellipse', icon=''):\n",
    "    gradient_color = f\"{color}:white\"\n",
    "    mw.node(name, label, shape=shape, style='filled', fillcolor=gradient_color, \n",
    "            gradientangle='60', fontname='Arial', fontsize='24', fontcolor='#333333', \n",
    "            penwidth='2', margin='0.3', width=str(ns*1.2), height=str(ns*1.2),fixedsize='true')\n",
    "    \n",
    "style_node('Y2','Deposit\\nFeeder\\n'+str(round(dvm.Y2,1)),colors['animal'], icon='')\n",
    "style_node('Y3', 'Susp.\\nFeeder\\n'+str(round(dvm.Y3,1)), colors['animal'], icon='🦪')\n",
    "style_node('Y4', 'Meiofauna\\n'+str(round(dvm.Y4,1)), colors['animal'], icon='🦐')\n",
    "style_node('H1', 'Aerobic\\nBacteria\\n'+str(round(dvm.H1,1)), colors['bacteria'], icon='🦠')\n",
    "style_node('H2', 'Anaerobic\\nBacteria\\n'+str(round(dvm.H2,1)), colors['bacteria'], icon='🦠')\n",
    "style_node('P1', 'Diatoms', colors['plankton'], 'square', icon='🔬')\n",
    "style_node('P2', 'Nanophyto', colors['plankton'], 'square', icon='🔬')\n",
    "style_node('P3', 'Picophyto', colors['plankton'], 'square', icon='🔬')\n",
    "style_node('R4', 'Small\\nPOM', colors['matter'], 'square', icon='🔹')\n",
    "style_node('R6', 'Medium\\nPOM', colors['matter'], 'square', icon='🔸')\n",
    "style_node('R8', 'Large\\nPOM', colors['matter'], 'square', icon='🔶')\n",
    "style_node('Q1', 'DOM\\n'+str(round(dvm.Q1,1)), colors['matter'], icon='💧')\n",
    "style_node('Q6', 'sPOM\\n'+str(round(dvm.Q6,1)), colors['matter'], icon='🔸')\n",
    "style_node('Q7', 'rPOM\\n'+str(round(dvm.Q7,1)), colors['matter'], icon='🔶')\n",
    "style_node('G3', 'Dissolved\\nInorganic\\nCarbon', colors['other'], icon='⚛️')\n",
    "\n",
    "mw.view()"
   ]
  },
  {
   "cell_type": "markdown",
   "id": "63739e88-e838-4df2-8bda-c8bdeefcd652",
   "metadata": {},
   "source": [
    "## Simplified Benthic Model Visualisation\n",
    "This section generates a directed graph showing carbon fluxes between different components of the benthic system from 1D simulation with simple ERSEM benthic model (\"benthic returns\"). The thickness of each arrow represents the relative magnitude of the carbon flux."
   ]
  },
  {
   "cell_type": "code",
   "execution_count": 27,
   "id": "891cc7de-c8c3-4ab5-936e-4d7f80164949",
   "metadata": {},
   "outputs": [],
   "source": [
    "os.chdir('/data/thaumus1/scratch/gle/becs')\n",
    "xe=xr.open_dataset('L4_ERSEM_benthic_return_2016.nc',drop_variables=['z','zi'])\n",
    "# Initialise DataFrame using time index from one of the variables\n",
    "rf=pd.DataFrame(index=xe.Q6_c.time.values)"
   ]
  },
  {
   "cell_type": "code",
   "execution_count": 28,
   "id": "5aeed2bf-328a-4853-80a2-2b50b1f22ba3",
   "metadata": {},
   "outputs": [],
   "source": [
    "# Deposition fluxes\n",
    "rf['R4Q6']=xe.R4_dep1c.values.squeeze()\n",
    "rf['R4Q7']=xe.R4_dep2c.values.squeeze()\n",
    "rf['R6Q6']=xe.R6_dep1c.values.squeeze()\n",
    "rf['R6Q7']=xe.R6_dep2c.values.squeeze()\n",
    "rf['R8Q6']=xe.R8_dep1c.values.squeeze()\n",
    "rf['R8Q7']=xe.R8_dep2c.values.squeeze()\n",
    "rf['P1Q6']=xe.P1_dep1c.values.squeeze()\n",
    "rf['P1Q1']=xe.P1_dep2c.values.squeeze()\n",
    "rf['P1Q7']=xe.P1_dep3c.values.squeeze()\n",
    "rf['P2Q6']=xe.P2_dep1c.values.squeeze()\n",
    "rf['P2Q1']=xe.P2_dep2c.values.squeeze()\n",
    "rf['P2Q7']=xe.P2_dep3c.values.squeeze()\n",
    "rf['P3Q6']=xe.P3_dep1c.values.squeeze()\n",
    "rf['P3Q1']=xe.P3_dep2c.values.squeeze()\n",
    "rf['P3Q7']=xe.P3_dep3c.values.squeeze()\n",
    "rf['P4Q6']=xe.P4_dep1c.values.squeeze()\n",
    "rf['P4Q1']=xe.P4_dep2c.values.squeeze()\n",
    "rf['P4Q7']=xe.P4_dep3c.values.squeeze()\n",
    "\n",
    "# Remineralisation fluxes\n",
    "rf['Q6G3']=xe.Q6_bremin.values.squeeze()\n",
    "rf['Q7G3']=xe.Q7_bremin.values.squeeze()\n",
    "rf['Q1G3']=xe.Q1_bremin.values.squeeze()\n",
    "\n",
    "# Resuspension flux\n",
    "rf['Q6R6']=xe.Q6_resuspension_flux_c.values.squeeze()\n",
    "\n",
    "#State variables (stocks)\n",
    "# Initialise DataFrame using time index from one of the variables\n",
    "rv = pd.DataFrame(index=xe.Q6_c.time.values)\n",
    "rv['Q1']=xe.Q1_c.values.squeeze()\n",
    "rv['Q6']=xe.Q6_c.values.squeeze()\n",
    "rv['Q7']=xe.Q7_c.values.squeeze()"
   ]
  },
  {
   "cell_type": "code",
   "execution_count": 29,
   "id": "9fa46278-61ac-42e1-8d3b-4bc92a311e00",
   "metadata": {},
   "outputs": [
    {
     "name": "stdout",
     "output_type": "stream",
     "text": [
      "Q6G3    64.418526\n",
      "dtype: float32\n"
     ]
    }
   ],
   "source": [
    "# Mean and maximum fluxes and stocks for year 2016\n",
    "rf=rf[rf.index.year==2016]\n",
    "rv=rv[rv.index.year==2016]\n",
    "rvm=rv.mean()\n",
    "rfm=rf.mean()\n",
    "rvmm=rvm.max()\n",
    "rfmm=rfm.max()\n",
    "\n",
    "# Identify which flux is a max flux for arrow scaling\n",
    "maxw = rfm[rfm==rfm.max()]\n",
    "print(maxw)"
   ]
  },
  {
   "cell_type": "code",
   "execution_count": 68,
   "id": "bc74b28f-157f-476c-97b7-386b43f46cf1",
   "metadata": {},
   "outputs": [
    {
     "data": {
      "text/plain": [
       "'Simplified_benthic_model_L4.png'"
      ]
     },
     "execution_count": 68,
     "metadata": {},
     "output_type": "execute_result"
    }
   ],
   "source": [
    "# Generate basic graph visualisation: specify positions of the nodes, relative arrow sizes and colours, apply background\n",
    "\n",
    "# Set up visualisation parameters\n",
    "minsize=0.5 # Minimum edge width\n",
    "maxwidth = maxw.values # Maximum flux value for normalization\n",
    "\n",
    "# Create a new graph (remove any existing one first)\n",
    "if 'sw' in locals():\n",
    "  del sw\n",
    "\n",
    "# Initialize the directed graph with publication settings\n",
    "sw=Digraph('Web',filename='Simplified_benthic_model_L4',format='png',engine='fdp')\n",
    "\n",
    "# Set graph dimensions and resolution\n",
    "sw.attr(size='10,8!') # Width x height in inches (! forces exact size)\n",
    "sw.attr(dpi='1200')\n",
    "\n",
    "# Set gradient background (ocean to seafloor colors)\n",
    "#sw.attr(bgcolor='#E6F3FF:#ECD6C3')  \n",
    "#sw.attr(style='filled', color='#E6F3FF;0:#F5E6D3;1', gradientangle='270')   # Top to bottom gradient\n",
    "\n",
    "# Or use transparent background\n",
    "sw.attr(bgcolor='transparent')\n",
    "\n",
    "# Set graph styling\n",
    "sw.attr(labelloc='b')   # Place labels at bottom\n",
    "sw.node_attr.update(style='filled',fillcolor='white')   # Default node style\n",
    "x=10\n",
    "\n",
    "with sw.subgraph(name='0') as s:\n",
    "  s.node('R8',pos='1,5!',fixed='true')\n",
    "  s.node('R6',pos='2,5!',fixed='true')\n",
    "  s.node('R4',pos='3,5!',fixed='true')\n",
    "  s.node('P1',pos='4,5!',fixed='true')\n",
    "  s.node('P2',pos='5,5!',fixed='true')\n",
    "  s.node('P3',pos='6,5!',fixed='true')\n",
    "  s.node('Q7',pos='2,4!',fixed='true')\n",
    "  s.node('Q6',pos='3.5,4!',fixed='true')\n",
    "  s.node('Q1',pos='1,4!',fixed='true')\n",
    "  s.node('G3',pos='3.5,1!',fixed='true')\n",
    "    \n",
    "sw.attr(overlap='false', splines='true')\n",
    "fluxes=['P3Q6','P3Q7','P2Q1','P3Q1','P1Q1','P1Q6','P1Q7','R4Q6','R4Q7','R6Q6','R6Q7','R8Q6','R8Q7', \\\n",
    "        'Q6R6','Q1G3','Q6G3','Q7G3']\n",
    "\n",
    "def add_transparency(color, alpha=0.5):\n",
    "    rgba = to_rgba(color, alpha)\n",
    "    return f\"rgba({int(rgba[0]*255)},{int(rgba[1]*255)},{int(rgba[2]*255)},{rgba[3]})\"\n",
    "    \n",
    "for fl in fluxes:\n",
    "    flo=fl[0:2];fli=fl[2:]\n",
    "    col=f\"{'#333333'}80\"#\"black\"\n",
    "    value = rfm[fl]\n",
    "    nvalue = value * (x / maxwidth)\n",
    "\n",
    "    if rfm[fl]<1e-5:\n",
    "        col=\"#0066CC\"   # Blue for negligible fluxes\n",
    "        nnvalue=0.5\n",
    "    elif rfm[fl]<0.2:\n",
    "        col=\"#CC0000\"   # Red for minor fluxes\n",
    "        nnvalue=0.5\n",
    "    else:\n",
    "        col=f\"{'#000000'}B0\"  # Semi-transparent black for significant fluxes\n",
    "        nnvalue = max(0.5, min(10., nvalue))\n",
    "\n",
    "    # Convert nnvalue to scalar if needed\n",
    "    if hasattr(nnvalue, 'ndim') and nnvalue.ndim > 0:\n",
    "        nnvalue = nnvalue.item()\n",
    "\n",
    "    # Create the edge with appropriate properties\n",
    "    sw.edge(flo,fli,penwidth=str(float(nnvalue)),color=col,arrowsize='1.0',arrowhead='normal')\n",
    "sw.view()\n"
   ]
  },
  {
   "cell_type": "code",
   "execution_count": 70,
   "id": "f3430483-b38c-4656-a8b4-f9b9df969cc4",
   "metadata": {},
   "outputs": [
    {
     "data": {
      "text/plain": [
       "'Simplified_benthic_model_L4.png'"
      ]
     },
     "execution_count": 70,
     "metadata": {},
     "output_type": "execute_result"
    }
   ],
   "source": [
    "# Generate advanced graph visualisation: \n",
    "# a) node colour correspond to type of stock/variable, shape to whether it is pelagic (square) or benthic (circle).\n",
    "# b) edit labels and fonts, apply fancy colour gradients\n",
    "# c) optionally, have some fun and add tiny icons to the nodes\n",
    "\n",
    "colors = {\n",
    "    'animal': '#3498db',  # Blue\n",
    "    'bacteria': '#e74c3c',  # Red\n",
    "    'plant': '#2ecc71',  # Green\n",
    "    'matter': '#f39c12',  # Orange\n",
    "    'other': '#95a5a6'  # Gray\n",
    "}\n",
    "\n",
    "ns=1.5\n",
    "\n",
    "def style_node(name, label, color, shape='ellipse', icon=''):\n",
    "    gradient_color = f\"{color}:white\"\n",
    "    sw.node(name, label, shape=shape, style='filled', fillcolor=gradient_color, \n",
    "            gradientangle='60', fontname='Arial', fontsize='24', fontcolor='#333333', \n",
    "            penwidth='2', margin='0.3', width=str(ns*1.2), height=str(ns*1.2),fixedsize='true')\n",
    "\n",
    "style_node('P1', 'Diatoms', colors['plant'], 'square', icon='🔬')\n",
    "style_node('P2', 'Nanophyto', colors['plant'], 'square', icon='🔬')\n",
    "style_node('P3', 'Picophyto', colors['plant'], 'square', icon='🔬')\n",
    "style_node('R4', 'Small\\nPOM', colors['matter'], 'square', icon='🔹')\n",
    "style_node('R6', 'Medium\\nPOM', colors['matter'], 'square', icon='🔸')\n",
    "style_node('R8', 'Large\\nPOM', colors['matter'], 'square', icon='🔶')\n",
    "style_node('Q1', 'DOM\\n'+str(round(rvm.Q1,1)), colors['matter'], icon='💧')\n",
    "style_node('Q6', 'sPOM\\n'+str(round(rvm.Q6,1)), colors['matter'], icon='🔸')\n",
    "style_node('Q7', 'rPOM\\n'+str(round(rvm.Q7,1)), colors['matter'], icon='🔶')\n",
    "style_node('G3', 'Dissolved\\nInorganic\\nCarbon', colors['other'], 'square',icon='⚛️')\n",
    "sw.view()"
   ]
  },
  {
   "cell_type": "code",
   "execution_count": null,
   "id": "52d3a107-6417-4351-a9a7-feb4695baaab",
   "metadata": {},
   "outputs": [],
   "source": []
  }
 ],
 "metadata": {
  "kernelspec": {
   "display_name": "Python 3 (ipykernel)",
   "language": "python",
   "name": "python3"
  },
  "language_info": {
   "codemirror_mode": {
    "name": "ipython",
    "version": 3
   },
   "file_extension": ".py",
   "mimetype": "text/x-python",
   "name": "python",
   "nbconvert_exporter": "python",
   "pygments_lexer": "ipython3",
   "version": "3.12.5"
  }
 },
 "nbformat": 4,
 "nbformat_minor": 5
}
